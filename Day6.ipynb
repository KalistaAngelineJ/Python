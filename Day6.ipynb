{
 "cells": [
  {
   "cell_type": "code",
   "execution_count": 1,
   "metadata": {},
   "outputs": [
    {
     "name": "stdout",
     "output_type": "stream",
     "text": [
      "Enter Account Holder's Name: Angel\n",
      "Enter amount to be Deposited: 4000\n",
      "\n",
      " Amount Deposited: 4000.0\n",
      "Enter amount to be Withdrawn: 2500\n",
      "\n",
      " You Withdrew: 2500.0\n",
      "\n",
      "Owner's Name:  Angel\n",
      "\n",
      " Net Available Balance= 1500.0\n"
     ]
    }
   ],
   "source": [
    "#Create a bank account class that has two attributes(owner name, balance) and two methods(withdraw, deposit)\n",
    "class Bank_Account: \n",
    "    def __init__(self, name = ''):\n",
    "        self.name = input(\"Enter Account Holder's Name: \")\n",
    "        self.b=0\n",
    "          \n",
    "    def deposit(self):\n",
    "        amt=float(input(\"Enter amount to be Deposited: \")) \n",
    "        self.b += amt \n",
    "        print(\"\\n Amount Deposited:\",amt) \n",
    "  \n",
    "    def withdraw(self): \n",
    "        amt = float(input(\"Enter amount to be Withdrawn: \")) \n",
    "        if self.b>=amt: \n",
    "            self.b-=amt \n",
    "            print(\"\\n You Withdrew:\", amt) \n",
    "        else: \n",
    "            print(\"\\n Insufficient balance  \") \n",
    "  \n",
    "    def display(self):\n",
    "        print(\"\\nOwner's Name: \",self.name)\n",
    "        print(\"\\n Net Available Balance=\",self.b) \n",
    "\n",
    "A = Bank_Account()\n",
    "A.deposit()\n",
    "A.withdraw()\n",
    "A.display() "
   ]
  },
  {
   "cell_type": "code",
   "execution_count": 5,
   "metadata": {},
   "outputs": [
    {
     "name": "stdout",
     "output_type": "stream",
     "text": [
      "Enter the Radius of the cone: 14\n",
      "Enter the Height of the cone: 30\n",
      "Volume:  6157.5216010359945\n",
      "Base:  615.7521601035994\n",
      "Side:  1456.0731228287991\n"
     ]
    }
   ],
   "source": [
    "#Create a cone class that has two attributes(radius, height) and two methods(volume, surface area)\n",
    "\n",
    "import math\n",
    "\n",
    "class Cone: \n",
    "    def __init__(self,r = 0, h=0):\n",
    "        self.v = 0\n",
    "        self.b = 0\n",
    "        self.s = 0\n",
    "        self.r = float(input(\"Enter the Radius of the cone: \"))\n",
    "        self.h = float(input(\"Enter the Height of the cone: \"))\n",
    "          \n",
    "    def volume(self):\n",
    "        self.v = math.pi * self.r**2 * (self.h/3)\n",
    "          \n",
    "    def surface(self): \n",
    "        self.b = math.pi * self.r**2\n",
    "        self.s = math.pi * self.r * math.sqrt((self.r**2)+(self.h**2))\n",
    "  \n",
    "    def display(self):\n",
    "        print(\"Volume: \",self.v)\n",
    "        print(\"Base: \",self.b)\n",
    "        print(\"Side: \",self.s)\n",
    "         \n",
    "\n",
    "C = Cone()\n",
    "C.volume()\n",
    "C.surface()\n",
    "C.display() "
   ]
  },
  {
   "cell_type": "code",
   "execution_count": null,
   "metadata": {},
   "outputs": [],
   "source": []
  }
 ],
 "metadata": {
  "kernelspec": {
   "display_name": "Python 3",
   "language": "python",
   "name": "python3"
  },
  "language_info": {
   "codemirror_mode": {
    "name": "ipython",
    "version": 3
   },
   "file_extension": ".py",
   "mimetype": "text/x-python",
   "name": "python",
   "nbconvert_exporter": "python",
   "pygments_lexer": "ipython3",
   "version": "3.8.3"
  }
 },
 "nbformat": 4,
 "nbformat_minor": 4
}
