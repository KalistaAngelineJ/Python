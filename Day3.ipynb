{
 "cells": [
  {
   "cell_type": "code",
   "execution_count": 1,
   "metadata": {},
   "outputs": [
    {
     "name": "stdout",
     "output_type": "stream",
     "text": [
      "current altitude - 1000\n",
      "Safe to Land\n"
     ]
    }
   ],
   "source": [
    "# Pilots want to land a plane safely, so altitude required for landing a plane is 1000ft, if it is less than tell the pilot to\n",
    "#land the plane,or it is more than that or less than 5000ft ask the pilot to \"come down to 1000 ft\", else if it is more than\n",
    "#5000 ft ask the pilot to \"Go around and try later\".\n",
    "\n",
    "a = int(input(\"current altitude - \"))\n",
    "if a<=1000:\n",
    "  print(\"Safe to Land\")\n",
    "elif ((a>1000) and (a<5000)): \n",
    "  print(\"come down to 1000ft\")\n",
    "else: \n",
    "  print(\"Go around and Try Later\")\n"
   ]
  },
  {
   "cell_type": "code",
   "execution_count": 2,
   "metadata": {},
   "outputs": [
    {
     "name": "stdout",
     "output_type": "stream",
     "text": [
      "current altitude - 4500\n",
      "come down to 1000ft\n"
     ]
    }
   ],
   "source": [
    "a = int(input(\"current altitude - \"))\n",
    "if a<=1000:\n",
    "  print(\"Safe to Land\")\n",
    "elif ((a>1000) and (a<5000)): \n",
    "  print(\"come down to 1000ft\")\n",
    "else: \n",
    "  print(\"Go around and Try Later\")"
   ]
  },
  {
   "cell_type": "code",
   "execution_count": 4,
   "metadata": {},
   "outputs": [
    {
     "name": "stdout",
     "output_type": "stream",
     "text": [
      "current altitude - 6000\n",
      "Go around and Try Later\n"
     ]
    }
   ],
   "source": [
    "a = int(input(\"current altitude - \"))\n",
    "if a<=1000:\n",
    "  print(\"Safe to Land\")\n",
    "elif ((a>1000) and (a<5000)): \n",
    "  print(\"come down to 1000ft\")\n",
    "else: \n",
    "  print(\"Go around and Try Later\")"
   ]
  },
  {
   "cell_type": "code",
   "execution_count": 5,
   "metadata": {},
   "outputs": [
    {
     "name": "stdout",
     "output_type": "stream",
     "text": [
      "2\n",
      "3\n",
      "5\n",
      "7\n",
      "11\n",
      "13\n",
      "17\n",
      "19\n",
      "23\n",
      "29\n",
      "31\n",
      "37\n",
      "41\n",
      "43\n",
      "47\n",
      "53\n",
      "59\n",
      "61\n",
      "67\n",
      "71\n",
      "73\n",
      "79\n",
      "83\n",
      "89\n",
      "97\n",
      "101\n",
      "103\n",
      "107\n",
      "109\n",
      "113\n",
      "127\n",
      "131\n",
      "137\n",
      "139\n",
      "149\n",
      "151\n",
      "157\n",
      "163\n",
      "167\n",
      "173\n",
      "179\n",
      "181\n",
      "191\n",
      "193\n",
      "197\n",
      "199\n"
     ]
    }
   ],
   "source": [
    "#Using For Loop andrange function print all prime numbers between 1 to 200\n",
    "\n",
    "for n in range(1,200):\n",
    "    if(n>1): \n",
    "        for i in range(2,n):\n",
    "            if(n%i == 0):\n",
    "               break\n",
    "        else:\n",
    "           print(n)"
   ]
  },
  {
   "cell_type": "code",
   "execution_count": null,
   "metadata": {},
   "outputs": [],
   "source": []
  }
 ],
 "metadata": {
  "kernelspec": {
   "display_name": "Python 3",
   "language": "python",
   "name": "python3"
  },
  "language_info": {
   "codemirror_mode": {
    "name": "ipython",
    "version": 3
   },
   "file_extension": ".py",
   "mimetype": "text/x-python",
   "name": "python",
   "nbconvert_exporter": "python",
   "pygments_lexer": "ipython3",
   "version": "3.8.3"
  }
 },
 "nbformat": 4,
 "nbformat_minor": 4
}
