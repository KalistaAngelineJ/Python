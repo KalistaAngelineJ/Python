{
 "cells": [
  {
   "cell_type": "code",
   "execution_count": 1,
   "metadata": {},
   "outputs": [],
   "source": [
    "#decorator function to take input for any kind of information like fibonacci series\n",
    "def dec(fun):\n",
    "    def wrap_func():\n",
    "        n = int(input(\"Enter the no. of terms in fibonacci series\"))\n",
    "        fun(n)\n",
    "    return wrap_func"
   ]
  },
  {
   "cell_type": "code",
   "execution_count": 2,
   "metadata": {},
   "outputs": [],
   "source": [
    "@dec\n",
    "def fib(n):\n",
    "    a = 0\n",
    "    b = 1\n",
    "    s = 0\n",
    "    count = 1\n",
    "    print(\"Fibonacci Series: \")\n",
    "    while(count <= n):\n",
    "        print(s, \" \")\n",
    "        count += 1\n",
    "        a = b\n",
    "        b = s\n",
    "        s = a + b"
   ]
  },
  {
   "cell_type": "code",
   "execution_count": 3,
   "metadata": {},
   "outputs": [
    {
     "name": "stdout",
     "output_type": "stream",
     "text": [
      "Enter the no. of terms in fibonacci series4\n",
      "Fibonacci Series: \n",
      "0  \n",
      "1  \n",
      "1  \n",
      "2  \n"
     ]
    }
   ],
   "source": [
    "fib()"
   ]
  },
  {
   "cell_type": "code",
   "execution_count": 4,
   "metadata": {},
   "outputs": [
    {
     "name": "stdout",
     "output_type": "stream",
     "text": [
      "not writable\n"
     ]
    }
   ],
   "source": [
    "#Python program to open a file in read only mode and try writing something to it and handle the subsequent errors using \n",
    "#exception handling \n",
    "\n",
    "try:\n",
    "    file = open(\"sample.txt\",\"r\")\n",
    "    file.write(\"Have a nice day\")\n",
    "    file.close()\n",
    "except Exception as e:\n",
    "    print(e)"
   ]
  },
  {
   "cell_type": "code",
   "execution_count": null,
   "metadata": {},
   "outputs": [],
   "source": []
  }
 ],
 "metadata": {
  "kernelspec": {
   "display_name": "Python 3",
   "language": "python",
   "name": "python3"
  },
  "language_info": {
   "codemirror_mode": {
    "name": "ipython",
    "version": 3
   },
   "file_extension": ".py",
   "mimetype": "text/x-python",
   "name": "python",
   "nbconvert_exporter": "python",
   "pygments_lexer": "ipython3",
   "version": "3.8.3"
  }
 },
 "nbformat": 4,
 "nbformat_minor": 4
}
