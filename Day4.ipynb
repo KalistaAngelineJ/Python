{
 "cells": [
  {
   "cell_type": "code",
   "execution_count": 1,
   "metadata": {},
   "outputs": [
    {
     "name": "stdout",
     "output_type": "stream",
     "text": [
      "The first armstrong number is  1741725\n"
     ]
    }
   ],
   "source": [
    "#Print the first armstrong number in the range of 1042000 to 702648265 and exit the loop as soon as you encounter the first\n",
    "#armstrong number using while loop\n",
    "a = 1042000\n",
    "b = 702648265\n",
    "for n in range(a, b+1):\n",
    "    sum = 0;\n",
    "    t = n;\n",
    "    p = len(str(n))\n",
    "    while t > 0:\n",
    "        n1 = t % 10\n",
    "        sum += n1 ** p\n",
    "        t //= 10\n",
    "    if n == sum:\n",
    "        print(\"The first armstrong number is \",n)\n",
    "        break "
   ]
  },
  {
   "cell_type": "code",
   "execution_count": null,
   "metadata": {},
   "outputs": [],
   "source": []
  }
 ],
 "metadata": {
  "kernelspec": {
   "display_name": "Python 3",
   "language": "python",
   "name": "python3"
  },
  "language_info": {
   "codemirror_mode": {
    "name": "ipython",
    "version": 3
   },
   "file_extension": ".py",
   "mimetype": "text/x-python",
   "name": "python",
   "nbconvert_exporter": "python",
   "pygments_lexer": "ipython3",
   "version": "3.8.3"
  }
 },
 "nbformat": 4,
 "nbformat_minor": 4
}
